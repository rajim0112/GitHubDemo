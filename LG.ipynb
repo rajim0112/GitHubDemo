{
  "nbformat": 4,
  "nbformat_minor": 0,
  "metadata": {
    "colab": {
      "provenance": [],
      "include_colab_link": true
    },
    "kernelspec": {
      "name": "python3",
      "display_name": "Python 3"
    },
    "language_info": {
      "name": "python"
    }
  },
  "cells": [
    {
      "cell_type": "markdown",
      "metadata": {
        "id": "view-in-github",
        "colab_type": "text"
      },
      "source": [
        "<a href=\"https://colab.research.google.com/github/rajim0112/GitHubDemo/blob/main/LG.ipynb\" target=\"_parent\"><img src=\"https://colab.research.google.com/assets/colab-badge.svg\" alt=\"Open In Colab\"/></a>"
      ]
    },
    {
      "cell_type": "code",
      "source": [
        "import numpy as np\n",
        "import matplotlib.pyplot as plt"
      ],
      "metadata": {
        "id": "wfncHoCqfeMa"
      },
      "execution_count": null,
      "outputs": []
    },
    {
      "cell_type": "code",
      "source": [
        "# Sigmoid function\n",
        "def sigmoid(z):\n",
        "    return 1 / (1 + np.exp(-z)) # Indented the return statement"
      ],
      "metadata": {
        "id": "8OVyqQwSf8sS"
      },
      "execution_count": null,
      "outputs": []
    },
    {
      "cell_type": "code",
      "source": [
        "# Sample data (Binary classification)\n",
        "X = np.array([1, 2, 3, 4, 5])\n",
        "Y = np.array([0, 0, 0, 1, 1])  # Binary output"
      ],
      "metadata": {
        "id": "UerT6440gFWg"
      },
      "execution_count": null,
      "outputs": []
    },
    {
      "cell_type": "code",
      "source": [
        "# Initialize parameters\n",
        "m, c = 0.5, -1  # Random values"
      ],
      "metadata": {
        "id": "PzB9z3LOgmZV"
      },
      "execution_count": null,
      "outputs": []
    },
    {
      "cell_type": "code",
      "source": [
        "# Compute predictions using sigmoid function\n",
        "Z = m * X + c\n",
        "Y_pred = sigmoid(Z)"
      ],
      "metadata": {
        "id": "fyGAiQc7g0zN"
      },
      "execution_count": null,
      "outputs": []
    },
    {
      "cell_type": "code",
      "source": [
        "# Classification based on threshold 0.5\n",
        "Y_classified = (Y_pred >= 0.5).astype(int)"
      ],
      "metadata": {
        "id": "caOUTR6Tg-DP"
      },
      "execution_count": null,
      "outputs": []
    },
    {
      "cell_type": "code",
      "source": [
        "# Plot data points and sigmoid function\n",
        "plt.scatter(X, Y, color='red', label=\"Data Points\")\n",
        "plt.plot(X, Y_pred, color='blue', label=\"Sigmoid Curve\")\n",
        "plt.xlabel(\"X\")\n",
        "plt.ylabel(\"Probability\")\n",
        "plt.legend()\n",
        "plt.show()\n"
      ],
      "metadata": {
        "colab": {
          "base_uri": "https://localhost:8080/",
          "height": 449
        },
        "id": "1oUt1J4DhGZY",
        "outputId": "11f7bf53-bf86-482c-871a-ed51078f7573"
      },
      "execution_count": null,
      "outputs": [
        {
          "output_type": "display_data",
          "data": {
            "text/plain": [
              "<Figure size 640x480 with 1 Axes>"
            ],
            "image/png": "[encoded data removed]"
          },
          "metadata": {}
        }
      ]
    },
    {
      "cell_type": "code",
      "source": [
        "print(f\"Predicted Probabilities: {Y_pred}\")\n",
        "print(f\"Classified Outputs: {Y_classified}\")"
      ],
      "metadata": {
        "colab": {
          "base_uri": "https://localhost:8080/"
        },
        "id": "aleNSJI0hbiq",
        "outputId": "e57713e4-4339-41fb-ca62-cbe94c8354ac"
      },
      "execution_count": null,
      "outputs": [
        {
          "output_type": "stream",
          "name": "stdout",
          "text": [
            "Predicted Probabilities: [0.37754067 0.5        0.62245933 0.73105858 0.81757448]\n",
            "Classified Outputs: [0 1 1 1 1]\n"
          ]
        }
      ]
    },
    {
      "cell_type": "code",
      "source": [],
      "metadata": {
        "id": "nVlf3E6ThigP"
      },
      "execution_count": null,
      "outputs": []
    }
  ]
}